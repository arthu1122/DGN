{
 "cells": [
  {
   "cell_type": "code",
   "execution_count": 1,
   "metadata": {
    "collapsed": true,
    "pycharm": {
     "name": "#%%\n"
    }
   },
   "outputs": [],
   "source": [
    "import pandas as pd"
   ]
  },
  {
   "cell_type": "code",
   "execution_count": 3,
   "outputs": [],
   "source": [
    "# 编码DRUG和TAR\n",
    "df_d = pd.read_csv(\"../data/raw/Feature_DRUG.csv\")\n",
    "df_t = pd.read_csv(\"../data/raw/Feature_TAR.csv\")\n",
    "\n",
    "drug_ids = df_d['DrugID']\n",
    "tar_ids = df_t['TargetID']\n",
    "\n",
    "vocab = []\n",
    "for id in drug_ids:\n",
    "    vocab.append(\"Drug|||\" + str(id) + \"\\n\")\n",
    "\n",
    "for id in tar_ids:\n",
    "    vocab.append(\"Target|||\" + str(id) + \"\\n\")\n",
    "\n",
    "with open(\"../data/processed/vocab.txt\", 'w') as file:\n",
    "    file.writelines(vocab)"
   ],
   "metadata": {
    "collapsed": false,
    "pycharm": {
     "name": "#%%\n"
    }
   }
  },
  {
   "cell_type": "code",
   "execution_count": 14,
   "outputs": [],
   "source": [
    "with open(\"../data/processed/vocab.txt\", 'r') as file:\n",
    "    vocab = file.readlines()\n",
    "\n",
    "id_dict = {}\n",
    "for i in range(len(vocab)):\n",
    "    id_dict[vocab[i][:-1]] = i\n",
    "\n",
    "\n",
    "def get_id(ID, is_drug=True):\n",
    "    if is_drug:\n",
    "        key = \"Drug|||\" + str(ID)\n",
    "    else:\n",
    "        key = \"Target|||\" + str(ID)\n",
    "\n",
    "    return id_dict[key]\n",
    "\n",
    "\n",
    "# drug_drug edge_index 和 edge_att\n",
    "edge_index = []\n",
    "edge_att = []\n",
    "e_dd = pd.read_csv(\"../data/raw/Edge_DRUG-DRUG.csv\", dtype='str')\n",
    "\n",
    "cols = e_dd.columns[1:]\n",
    "for index, row in e_dd.iterrows():\n",
    "    id = get_id(row['DrugID'])\n",
    "    for col in cols:\n",
    "        if str(row['DrugID']) == str(col):\n",
    "            continue\n",
    "        edge_index.append([id, get_id(col)])\n",
    "        edge_att.append(e_dd.loc[index, col])\n",
    "with open(\"../data/processed/drug_drug_edge_index.txt\", 'w') as file:\n",
    "    for e_i in edge_index:\n",
    "        file.write(str(e_i))\n",
    "        file.write(\"\\n\")\n",
    "\n",
    "with open(\"../data/processed/drug_drug_edge_att.txt\", 'w') as file:\n",
    "    for e_t in edge_att:\n",
    "        file.write(str(e_t))\n",
    "        file.write(\"\\n\")"
   ],
   "metadata": {
    "collapsed": false,
    "pycharm": {
     "name": "#%%\n"
    }
   }
  },
  {
   "cell_type": "code",
   "execution_count": 15,
   "outputs": [],
   "source": [
    "\n",
    "# target_target edge_index 和 edge_att\n",
    "edge_index = []\n",
    "edge_att = []\n",
    "e_dd = pd.read_csv(\"../data/raw/Edge_TAR-TAR.csv\", dtype='str')\n",
    "\n",
    "for index, row in e_dd.iterrows():\n",
    "    id1 = get_id(row['TargetID1'], False)\n",
    "    id2 = get_id(row['TargetID2'], False)\n",
    "\n",
    "    edge_index.append([id1,id2])\n",
    "    edge_att.append(1.0)\n",
    "\n",
    "with open(\"../data/processed/tar_tar_edge_index.txt\", 'w') as file:\n",
    "    for e_i in edge_index:\n",
    "        file.write(str(e_i))\n",
    "        file.write(\"\\n\")\n",
    "\n",
    "with open(\"../data/processed/tar_tar_edge_att.txt\", 'w') as file:\n",
    "    for e_t in edge_att:\n",
    "        file.write(str(e_t))\n",
    "        file.write(\"\\n\")"
   ],
   "metadata": {
    "collapsed": false,
    "pycharm": {
     "name": "#%%\n"
    }
   }
  },
  {
   "cell_type": "code",
   "execution_count": 16,
   "outputs": [],
   "source": [
    "\n",
    "# drug_target edge_index 和 edge_att\n",
    "edge_index = []\n",
    "edge_att = []\n",
    "e_dd = pd.read_csv(\"../data/raw/Edge_DRUG-TAR.csv\", dtype='str')\n",
    "\n",
    "for index, row in e_dd.iterrows():\n",
    "    id1 = get_id(row['DrugID'])\n",
    "    id2 = get_id(row['TargetID'], False)\n",
    "\n",
    "    edge_index.append([id1,id2])\n",
    "    edge_att.append(1.0)\n",
    "\n",
    "with open(\"../data/processed/drug_tar_edge_index.txt\", 'w') as file:\n",
    "    for e_i in edge_index:\n",
    "        file.write(str(e_i))\n",
    "        file.write(\"\\n\")\n",
    "\n",
    "with open(\"../data/processed/drug_tar_edge_att.txt\", 'w') as file:\n",
    "    for e_t in edge_att:\n",
    "        file.write(str(e_t))\n",
    "        file.write(\"\\n\")"
   ],
   "metadata": {
    "collapsed": false,
    "pycharm": {
     "name": "#%%\n"
    }
   }
  },
  {
   "cell_type": "code",
   "execution_count": 19,
   "outputs": [
    {
     "data": {
      "text/plain": "[[77, 88, 99], [12, 23, 445]]"
     },
     "execution_count": 19,
     "metadata": {},
     "output_type": "execute_result"
    }
   ],
   "source": [
    "a=[[12,23,445],[77,88,99]]\n",
    "a[::-1]"
   ],
   "metadata": {
    "collapsed": false,
    "pycharm": {
     "name": "#%%\n"
    }
   }
  }
 ],
 "metadata": {
  "kernelspec": {
   "display_name": "Python 3",
   "language": "python",
   "name": "python3"
  },
  "language_info": {
   "codemirror_mode": {
    "name": "ipython",
    "version": 2
   },
   "file_extension": ".py",
   "mimetype": "text/x-python",
   "name": "python",
   "nbconvert_exporter": "python",
   "pygments_lexer": "ipython2",
   "version": "2.7.6"
  }
 },
 "nbformat": 4,
 "nbformat_minor": 0
}