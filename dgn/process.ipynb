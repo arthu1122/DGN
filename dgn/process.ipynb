{
 "cells": [
  {
   "cell_type": "code",
   "execution_count": 1,
   "metadata": {
    "collapsed": true,
    "pycharm": {
     "name": "#%%\n"
    }
   },
   "outputs": [],
   "source": [
    "import pandas as pd"
   ]
  },
  {
   "cell_type": "code",
   "execution_count": 5,
   "outputs": [],
   "source": [
    "# 编码DRUG和TAR\n",
    "df_d = pd.read_csv(\"../data/raw/Feature_DRUG.csv\")\n",
    "df_t = pd.read_csv(\"../data/raw/Feature_TAR.csv\")\n",
    "\n",
    "drug_ids = df_d['DrugID']\n",
    "tar_ids = df_t['TargetID']\n",
    "\n",
    "drug_vocab = []\n",
    "for id in drug_ids:\n",
    "    drug_vocab.append(\"Drug|||\" + str(id) + \"\\n\")\n",
    "\n",
    "tar_vocab=[]\n",
    "for id in tar_ids:\n",
    "    tar_vocab.append(\"Target|||\" + str(id) + \"\\n\")\n",
    "\n",
    "with open(\"../data/processed/drug_vocab.txt\", 'w') as file:\n",
    "    file.writelines(drug_vocab)\n",
    "\n",
    "with open(\"../data/processed/tar_vocab.txt\",'w') as file:\n",
    "    file.writelines(tar_vocab)"
   ],
   "metadata": {
    "collapsed": false,
    "pycharm": {
     "name": "#%%\n"
    }
   }
  },
  {
   "cell_type": "code",
   "execution_count": 6,
   "outputs": [],
   "source": [
    "with open(\"../data/processed/drug_vocab.txt\", 'r') as file:\n",
    "    drug_vocab = file.readlines()\n",
    "\n",
    "with open(\"../data/processed/tar_vocab.txt\", 'r') as file:\n",
    "    tar_vocab = file.readlines()\n",
    "\n",
    "drug_id_dict = {}\n",
    "for i in range(len(drug_vocab)):\n",
    "    drug_id_dict[drug_vocab[i][:-1]] = i\n",
    "\n",
    "tar_id_dict = {}\n",
    "for i in range(len(tar_vocab)):\n",
    "    tar_id_dict[tar_vocab[i][:-1]] = i\n",
    "\n",
    "\n",
    "def get_id(ID, is_drug=True):\n",
    "    if is_drug:\n",
    "        key = \"Drug|||\" + str(ID)\n",
    "        return drug_id_dict[key]\n",
    "    else:\n",
    "        key = \"Target|||\" + str(ID)\n",
    "        return tar_id_dict[key]\n",
    "\n",
    "\n",
    "# drug_drug edge_index 和 edge_att\n",
    "edge_index = []\n",
    "edge_att = []\n",
    "e_dd = pd.read_csv(\"../data/raw/Edge_DRUG-DRUG.csv\", dtype='str')\n",
    "\n",
    "cols = e_dd.columns[1:]\n",
    "for index, row in e_dd.iterrows():\n",
    "    id = get_id(row['DrugID'])\n",
    "    for col in cols:\n",
    "        if str(row['DrugID']) == str(col):\n",
    "            continue\n",
    "        edge_index.append([id, get_id(col)])\n",
    "        edge_att.append(e_dd.loc[index, col])\n",
    "with open(\"../data/processed/drug_drug_edge_index.txt\", 'w') as file:\n",
    "    for e_i in edge_index:\n",
    "        file.write(str(e_i))\n",
    "        file.write(\"\\n\")\n",
    "\n",
    "with open(\"../data/processed/drug_drug_edge_att.txt\", 'w') as file:\n",
    "    for e_t in edge_att:\n",
    "        file.write(str(e_t))\n",
    "        file.write(\"\\n\")"
   ],
   "metadata": {
    "collapsed": false,
    "pycharm": {
     "name": "#%%\n"
    }
   }
  },
  {
   "cell_type": "code",
   "execution_count": 7,
   "outputs": [],
   "source": [
    "\n",
    "# target_target edge_index 和 edge_att\n",
    "edge_index = []\n",
    "edge_att = []\n",
    "e_dd = pd.read_csv(\"../data/raw/Edge_TAR-TAR.csv\", dtype='str')\n",
    "\n",
    "for index, row in e_dd.iterrows():\n",
    "    id1 = get_id(row['TargetID1'], False)\n",
    "    id2 = get_id(row['TargetID2'], False)\n",
    "\n",
    "    edge_index.append([id1,id2])\n",
    "    edge_att.append(1.0)\n",
    "\n",
    "with open(\"../data/processed/tar_tar_edge_index.txt\", 'w') as file:\n",
    "    for e_i in edge_index:\n",
    "        file.write(str(e_i))\n",
    "        file.write(\"\\n\")\n",
    "\n",
    "with open(\"../data/processed/tar_tar_edge_att.txt\", 'w') as file:\n",
    "    for e_t in edge_att:\n",
    "        file.write(str(e_t))\n",
    "        file.write(\"\\n\")"
   ],
   "metadata": {
    "collapsed": false,
    "pycharm": {
     "name": "#%%\n"
    }
   }
  },
  {
   "cell_type": "code",
   "execution_count": 8,
   "outputs": [],
   "source": [
    "\n",
    "# drug_target edge_index 和 edge_att\n",
    "edge_index = []\n",
    "edge_att = []\n",
    "e_dd = pd.read_csv(\"../data/raw/Edge_DRUG-TAR.csv\", dtype='str')\n",
    "\n",
    "for index, row in e_dd.iterrows():\n",
    "    id1 = get_id(row['DrugID'])\n",
    "    id2 = get_id(row['TargetID'], False)\n",
    "\n",
    "    edge_index.append([id1,id2])\n",
    "    edge_att.append(1.0)\n",
    "\n",
    "with open(\"../data/processed/drug_tar_edge_index.txt\", 'w') as file:\n",
    "    for e_i in edge_index:\n",
    "        file.write(str(e_i))\n",
    "        file.write(\"\\n\")\n",
    "\n",
    "with open(\"../data/processed/drug_tar_edge_att.txt\", 'w') as file:\n",
    "    for e_t in edge_att:\n",
    "        file.write(str(e_t))\n",
    "        file.write(\"\\n\")"
   ],
   "metadata": {
    "collapsed": false,
    "pycharm": {
     "name": "#%%\n"
    }
   }
  },
  {
   "cell_type": "code",
   "execution_count": 2,
   "outputs": [],
   "source": [
    "# 数据集打乱\n",
    "df=pd.read_csv(\"../data/raw/Label_DRUGCOMB.csv\")\n",
    "from sklearn.utils import shuffle\n",
    "df = shuffle(df)\n",
    "df.to_csv(\"../data/processed/Shuffled_Label_Data.csv\")"
   ],
   "metadata": {
    "collapsed": false,
    "pycharm": {
     "name": "#%%\n"
    }
   }
  },
  {
   "cell_type": "code",
   "execution_count": 7,
   "outputs": [],
   "source": [
    "# results.txt 转 csv\n",
    "txt_file=\"../data/result/GATNet(DrugA_DrugB)0--AUCs.txt\"\n",
    "with open(txt_file,'r') as f:\n",
    "    texts=f.readlines()\n",
    "\n",
    "res=[]\n",
    "for text in texts:\n",
    "    res.append(text[:-1].split('\\t'))\n",
    "\n",
    "df=pd.DataFrame(data=res)\n",
    "df.to_csv(\"../data/result/GATNet_results.csv\",header=0,index=0)"
   ],
   "metadata": {
    "collapsed": false,
    "pycharm": {
     "name": "#%%\n"
    }
   }
  }
 ],
 "metadata": {
  "kernelspec": {
   "display_name": "Python 3",
   "language": "python",
   "name": "python3"
  },
  "language_info": {
   "codemirror_mode": {
    "name": "ipython",
    "version": 2
   },
   "file_extension": ".py",
   "mimetype": "text/x-python",
   "name": "python",
   "nbconvert_exporter": "python",
   "pygments_lexer": "ipython2",
   "version": "2.7.6"
  }
 },
 "nbformat": 4,
 "nbformat_minor": 0
}